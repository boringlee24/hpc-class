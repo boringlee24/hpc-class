{
 "cells": [
  {
   "cell_type": "code",
   "execution_count": 1,
   "metadata": {},
   "outputs": [],
   "source": [
    "from pyspark import SparkConf, SparkContext"
   ]
  },
  {
   "cell_type": "code",
   "execution_count": 2,
   "metadata": {},
   "outputs": [
    {
     "name": "stderr",
     "output_type": "stream",
     "text": [
      "Setting default log level to \"WARN\".\n",
      "To adjust logging level use sc.setLogLevel(newLevel). For SparkR, use setLogLevel(newLevel).\n"
     ]
    },
    {
     "name": "stdout",
     "output_type": "stream",
     "text": [
      "22/11/22 00:05:37 WARN NativeCodeLoader: Unable to load native-hadoop library for your platform... using builtin-java classes where applicable\n"
     ]
    }
   ],
   "source": [
    "conf = SparkConf().setMaster(\"local[*]\").setAppName(\"Books\")\n",
    "conf.set(\"spark.executor.memory\", \"6G\")\n",
    "conf.set(\"spark.driver.memory\", \"2G\")\n",
    "conf.set(\"spark.executor.cores\", \"4\")\n",
    "conf.set(\"spark.serializer\", \"org.apache.spark.serializer.KryoSerializer\")\n",
    "conf.set(\"spark.default.parallelism\", \"4\")\n",
    "spark_context =  SparkContext.getOrCreate(conf=conf)"
   ]
  },
  {
   "cell_type": "code",
   "execution_count": 5,
   "metadata": {},
   "outputs": [
    {
     "name": "stderr",
     "output_type": "stream",
     "text": [
      "                                                                                \r"
     ]
    },
    {
     "name": "stdout",
     "output_type": "stream",
     "text": [
      "number of books =  271380\n",
      "First 3 rows are - \n",
      " ['\"ISBN\";\"Book-Title\";\"Book-Author\";\"Year-Of-Publication\";\"Publisher\";\"Image-URL-S\";\"Image-URL-M\";\"Image-URL-L\"', '\"0195153448\";\"Classical Mythology\";\"Mark P. O. Morford\";\"2002\";\"Oxford University Press\";\"http://images.amazon.com/images/P/0195153448.01.THUMBZZZ.jpg\";\"http://images.amazon.com/images/P/0195153448.01.MZZZZZZZ.jpg\";\"http://images.amazon.com/images/P/0195153448.01.LZZZZZZZ.jpg\"', '\"0002005018\";\"Clara Callan\";\"Richard Bruce Wright\";\"2001\";\"HarperFlamingo Canada\";\"http://images.amazon.com/images/P/0002005018.01.THUMBZZZ.jpg\";\"http://images.amazon.com/images/P/0002005018.01.MZZZZZZZ.jpg\";\"http://images.amazon.com/images/P/0002005018.01.LZZZZZZZ.jpg\"']\n"
     ]
    }
   ],
   "source": [
    "books_file = spark_context.textFile(\"./BX-CSV-Dump/BX-Books.csv\")\n",
    "print(\"number of books = \",books_file.count())\n",
    "print(\"First 3 rows are - \\n\",books_file.take(3))"
   ]
  },
  {
   "cell_type": "code",
   "execution_count": 6,
   "metadata": {},
   "outputs": [
    {
     "name": "stderr",
     "output_type": "stream",
     "text": [
      "                                                                                \r"
     ]
    },
    {
     "name": "stdout",
     "output_type": "stream",
     "text": [
      "number of books =  271380\n",
      "First 3 rows are - \n",
      " [['\"ISBN\"', '\"Book-Title\"', '\"Book-Author\"', '\"Year-Of-Publication\"', '\"Publisher\"', '\"Image-URL-S\"', '\"Image-URL-M\"', '\"Image-URL-L\"'], ['\"0195153448\"', '\"Classical Mythology\"', '\"Mark P. O. Morford\"', '\"2002\"', '\"Oxford University Press\"', '\"http://images.amazon.com/images/P/0195153448.01.THUMBZZZ.jpg\"', '\"http://images.amazon.com/images/P/0195153448.01.MZZZZZZZ.jpg\"', '\"http://images.amazon.com/images/P/0195153448.01.LZZZZZZZ.jpg\"'], ['\"0002005018\"', '\"Clara Callan\"', '\"Richard Bruce Wright\"', '\"2001\"', '\"HarperFlamingo Canada\"', '\"http://images.amazon.com/images/P/0002005018.01.THUMBZZZ.jpg\"', '\"http://images.amazon.com/images/P/0002005018.01.MZZZZZZZ.jpg\"', '\"http://images.amazon.com/images/P/0002005018.01.LZZZZZZZ.jpg\"']]\n"
     ]
    }
   ],
   "source": [
    "books_file = books_file.map(lambda l: l.split(';'))\n",
    "print(\"number of books = \",books_file.count())\n",
    "print(\"First 3 rows are - \\n\",books_file.take(3))"
   ]
  },
  {
   "cell_type": "code",
   "execution_count": 7,
   "metadata": {},
   "outputs": [
    {
     "name": "stdout",
     "output_type": "stream",
     "text": [
      "First 3 rows are - \n",
      " [['\"User-ID', 'ISBN', 'Book-Rating\"'], ['\"276725', '034545104X', '0\"'], ['\"276726', '0155061224', '5\"'], ['\"276727', '0446520802', '0\"'], ['\"276729', '052165615X', '3\"'], ['\"276729', '0521795028', '6\"'], ['\"276733', '2080674722', '0\"'], ['\"276736', '3257224281', '8\"'], ['\"276737', '0600570967', '6\"'], ['\"276744', '038550120X', '7\"']]\n",
      " \n",
      " K,V pairs are - \n",
      " [('ISBN', 1), ('034545104X', 1), ('0155061224', 1), ('0446520802', 1), ('052165615X', 1), ('0521795028', 1), ('2080674722', 1), ('3257224281', 1), ('0600570967', 1), ('038550120X', 1)]\n"
     ]
    }
   ],
   "source": [
    "#import the BX-Book-Ratings.csv file and split it into rows with individual elements\n",
    "ratings_file = spark_context.textFile(\"./BX-CSV-Dump/BX-Book-Ratings.csv\").map(lambda l: l.split('\";\"'))\n",
    "print(\"First 3 rows are - \\n\",ratings_file.take(10))\n",
    "print(\" \\n K,V pairs are - \\n\", ratings_file.map(lambda x: (x[1],1)).take(10))"
   ]
  },
  {
   "cell_type": "code",
   "execution_count": 12,
   "metadata": {},
   "outputs": [
    {
     "name": "stderr",
     "output_type": "stream",
     "text": [
      "[Stage 18:>                                                         (0 + 2) / 2]\r"
     ]
    },
    {
     "name": "stdout",
     "output_type": "stream",
     "text": [
      "[('052165615X', 1), ('0521795028', 1), ('2080674722', 3), ('0060517794', 66), ('0679776818', 47), ('1570231028', 2), ('3442437407', 64), ('033390804X', 1), ('3404611306', 16), ('3426690179', 2)]\n"
     ]
    },
    {
     "name": "stderr",
     "output_type": "stream",
     "text": [
      "                                                                                \r"
     ]
    }
   ],
   "source": [
    "ratings_kv = ratings_file.filter(lambda x: x[1] != 'ISBN' ).map(lambda x: (x[1],1))\n",
    "#print(ratings_kv.take(10))\n",
    "ratings_count = ratings_kv.reduceByKey(lambda x, y: x + y)\n",
    "print(ratings_count.take(10))"
   ]
  },
  {
   "cell_type": "code",
   "execution_count": 13,
   "metadata": {},
   "outputs": [
    {
     "ename": "NameError",
     "evalue": "name 'ratings_sorted' is not defined",
     "output_type": "error",
     "traceback": [
      "\u001b[0;31m---------------------------------------------------------------------------\u001b[0m",
      "\u001b[0;31mNameError\u001b[0m                                 Traceback (most recent call last)",
      "\u001b[1;32m/work/li.baol/GIT/hpc-class/spark_project/example/books.ipynb Cell 7\u001b[0m in \u001b[0;36m<cell line: 2>\u001b[0;34m()\u001b[0m\n\u001b[1;32m      <a href='vscode-notebook-cell://ssh-remote%2B7b22686f73744e616d65223a22446973636f766572794e6f646531227d/work/li.baol/GIT/hpc-class/spark_project/example/books.ipynb#W6sdnNjb2RlLXJlbW90ZQ%3D%3D?line=0'>1</a>\u001b[0m top_10 \u001b[39m=\u001b[39m []\n\u001b[0;32m----> <a href='vscode-notebook-cell://ssh-remote%2B7b22686f73744e616d65223a22446973636f766572794e6f646531227d/work/li.baol/GIT/hpc-class/spark_project/example/books.ipynb#W6sdnNjb2RlLXJlbW90ZQ%3D%3D?line=1'>2</a>\u001b[0m \u001b[39mfor\u001b[39;00m i \u001b[39min\u001b[39;00m ratings_sorted\u001b[39m.\u001b[39mtake(\u001b[39m10\u001b[39m):\n\u001b[1;32m      <a href='vscode-notebook-cell://ssh-remote%2B7b22686f73744e616d65223a22446973636f766572794e6f646531227d/work/li.baol/GIT/hpc-class/spark_project/example/books.ipynb#W6sdnNjb2RlLXJlbW90ZQ%3D%3D?line=2'>3</a>\u001b[0m     top_10\u001b[39m.\u001b[39mappend(\u001b[39m'\u001b[39m\u001b[39m\"\u001b[39m\u001b[39m'\u001b[39m\u001b[39m+\u001b[39mi[\u001b[39m1\u001b[39m]\u001b[39m+\u001b[39m\u001b[39m'\u001b[39m\u001b[39m\"\u001b[39m\u001b[39m'\u001b[39m)\n\u001b[1;32m      <a href='vscode-notebook-cell://ssh-remote%2B7b22686f73744e616d65223a22446973636f766572794e6f646531227d/work/li.baol/GIT/hpc-class/spark_project/example/books.ipynb#W6sdnNjb2RlLXJlbW90ZQ%3D%3D?line=3'>4</a>\u001b[0m \u001b[39mprint\u001b[39m(books_file\u001b[39m.\u001b[39mfilter(\u001b[39mlambda\u001b[39;00m x: x[\u001b[39m0\u001b[39m] \u001b[39min\u001b[39;00m top_10)\u001b[39m.\u001b[39mmap(\u001b[39mlambda\u001b[39;00m x: x[\u001b[39m1\u001b[39m])\u001b[39m.\u001b[39mcollect())\n",
      "\u001b[0;31mNameError\u001b[0m: name 'ratings_sorted' is not defined"
     ]
    }
   ],
   "source": [
    "top_10 = []\n",
    "for i in ratings_sorted.take(10):\n",
    "    top_10.append('\"'+i[1]+'\"')\n",
    "print(books_file.filter(lambda x: x[0] in top_10).map(lambda x: x[1]).collect())\n"
   ]
  },
  {
   "cell_type": "code",
   "execution_count": null,
   "metadata": {},
   "outputs": [],
   "source": []
  }
 ],
 "metadata": {
  "kernelspec": {
   "display_name": "Python 3.10.4 ('pytorch1.10')",
   "language": "python",
   "name": "python3"
  },
  "language_info": {
   "codemirror_mode": {
    "name": "ipython",
    "version": 3
   },
   "file_extension": ".py",
   "mimetype": "text/x-python",
   "name": "python",
   "nbconvert_exporter": "python",
   "pygments_lexer": "ipython3",
   "version": "3.10.4"
  },
  "orig_nbformat": 4,
  "vscode": {
   "interpreter": {
    "hash": "4fc5fa8ed76756c9f1c1fe21d69b4a13ec4b696a25ed91a91b6a167c0ca20b72"
   }
  }
 },
 "nbformat": 4,
 "nbformat_minor": 2
}
