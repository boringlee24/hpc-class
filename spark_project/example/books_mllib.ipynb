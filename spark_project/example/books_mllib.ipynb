{
 "cells": [
  {
   "cell_type": "code",
   "execution_count": 1,
   "metadata": {},
   "outputs": [],
   "source": [
    "import sys\n",
    "from pyspark import SparkConf, SparkContext\n",
    "from pyspark.sql import SparkSession\n",
    "from pyspark.ml.recommendation import ALS\n",
    "from pyspark.sql.functions  import *\n",
    "from pyspark.sql.types import *"
   ]
  },
  {
   "cell_type": "code",
   "execution_count": 2,
   "metadata": {},
   "outputs": [
    {
     "name": "stderr",
     "output_type": "stream",
     "text": [
      "Setting default log level to \"WARN\".\n",
      "To adjust logging level use sc.setLogLevel(newLevel). For SparkR, use setLogLevel(newLevel).\n"
     ]
    },
    {
     "name": "stdout",
     "output_type": "stream",
     "text": [
      "22/11/23 18:25:12 WARN NativeCodeLoader: Unable to load native-hadoop library for your platform... using builtin-java classes where applicable\n"
     ]
    }
   ],
   "source": [
    "# define the configurations for this Spark program\n",
    "conf = SparkConf().setMaster(\"local[*]\").setAppName(\"Books\")\n",
    "conf.set(\"spark.executor.memory\", \"6G\")\n",
    "conf.set(\"spark.driver.memory\", \"2G\")\n",
    "conf.set(\"spark.executor.cores\", \"4\")\n",
    "conf.set(\"spark.serializer\", \"org.apache.spark.serializer.KryoSerializer\")\n",
    "conf.set(\"spark.default.parallelism\", \"4\")\n",
    "\n",
    "# create a Spark Session instead of a Spark Context\n",
    "spark = SparkSession.builder \\\n",
    "    .config(conf = conf) \\\n",
    "  .appName(\"spark session example\") \\\n",
    "  .getOrCreate()"
   ]
  },
  {
   "cell_type": "code",
   "execution_count": 4,
   "metadata": {},
   "outputs": [
    {
     "name": "stdout",
     "output_type": "stream",
     "text": [
      "+----------+--------------------+--------------------+-------------------+--------------------+--------------------+--------------------+--------------------+\n",
      "|      ISBN|          Book-Title|         Book-Author|Year-Of-Publication|           Publisher|         Image-URL-S|         Image-URL-M|         Image-URL-L|\n",
      "+----------+--------------------+--------------------+-------------------+--------------------+--------------------+--------------------+--------------------+\n",
      "|0195153448| Classical Mythology|  Mark P. O. Morford|               2002|Oxford University...|http://images.ama...|http://images.ama...|http://images.ama...|\n",
      "|0002005018|        Clara Callan|Richard Bruce Wright|               2001|HarperFlamingo Ca...|http://images.ama...|http://images.ama...|http://images.ama...|\n",
      "|0060973129|Decision in Normandy|        Carlo D'Este|               1991|     HarperPerennial|http://images.ama...|http://images.ama...|http://images.ama...|\n",
      "|0374157065|Flu: The Story of...|    Gina Bari Kolata|               1999|Farrar Straus Giroux|http://images.ama...|http://images.ama...|http://images.ama...|\n",
      "|0393045218|The Mummies of Ur...|     E. J. W. Barber|               1999|W. W. Norton &amp...|http://images.ama...|http://images.ama...|http://images.ama...|\n",
      "|0399135782|The Kitchen God's...|             Amy Tan|               1991|    Putnam Pub Group|http://images.ama...|http://images.ama...|http://images.ama...|\n",
      "|0425176428|What If?: The Wor...|       Robert Cowley|               2000|Berkley Publishin...|http://images.ama...|http://images.ama...|http://images.ama...|\n",
      "|0671870432|     PLEADING GUILTY|         Scott Turow|               1993|          Audioworks|http://images.ama...|http://images.ama...|http://images.ama...|\n",
      "|0679425608|Under the Black F...|     David Cordingly|               1996|        Random House|http://images.ama...|http://images.ama...|http://images.ama...|\n",
      "|074322678X|Where You'll Find...|         Ann Beattie|               2002|            Scribner|http://images.ama...|http://images.ama...|http://images.ama...|\n",
      "|0771074670|Nights Below Stat...|David Adams Richards|               1988|     Emblem Editions|http://images.ama...|http://images.ama...|http://images.ama...|\n",
      "|080652121X|Hitler's Secret B...|          Adam Lebor|               2000|       Citadel Press|http://images.ama...|http://images.ama...|http://images.ama...|\n",
      "|0887841740|  The Middle Stories|         Sheila Heti|               2004|House of Anansi P...|http://images.ama...|http://images.ama...|http://images.ama...|\n",
      "|1552041778|            Jane Doe|        R. J. Kaiser|               1999|          Mira Books|http://images.ama...|http://images.ama...|http://images.ama...|\n",
      "|1558746218|A Second Chicken ...|       Jack Canfield|               1998|Health Communicat...|http://images.ama...|http://images.ama...|http://images.ama...|\n",
      "|1567407781|The Witchfinder (...|   Loren D. Estleman|               1998|Brilliance Audio ...|http://images.ama...|http://images.ama...|http://images.ama...|\n",
      "|1575663937|More Cunning Than...|  Robert Hendrickson|               1999|Kensington Publis...|http://images.ama...|http://images.ama...|http://images.ama...|\n",
      "|1881320189|Goodbye to the Bu...|        Julia Oliver|               1994|      River City Pub|http://images.ama...|http://images.ama...|http://images.ama...|\n",
      "|0440234743|       The Testament|        John Grisham|               1999|                Dell|http://images.ama...|http://images.ama...|http://images.ama...|\n",
      "|0452264464|Beloved (Plume Co...|       Toni Morrison|               1994|               Plume|http://images.ama...|http://images.ama...|http://images.ama...|\n",
      "+----------+--------------------+--------------------+-------------------+--------------------+--------------------+--------------------+--------------------+\n",
      "only showing top 20 rows\n",
      "\n"
     ]
    }
   ],
   "source": [
    "books_df = spark.read.option(\"delimiter\", \";\").option(\"header\", \"true\").csv('./BX-CSV-Dump/BX-Books.csv')\n",
    "books_df.show()"
   ]
  },
  {
   "cell_type": "code",
   "execution_count": 5,
   "metadata": {},
   "outputs": [
    {
     "name": "stdout",
     "output_type": "stream",
     "text": [
      "+--------------------+\n",
      "|          Book-Title|\n",
      "+--------------------+\n",
      "| Classical Mythology|\n",
      "|        Clara Callan|\n",
      "|Decision in Normandy|\n",
      "|Flu: The Story of...|\n",
      "|The Mummies of Ur...|\n",
      "|The Kitchen God's...|\n",
      "|What If?: The Wor...|\n",
      "|     PLEADING GUILTY|\n",
      "|Under the Black F...|\n",
      "|Where You'll Find...|\n",
      "|Nights Below Stat...|\n",
      "|Hitler's Secret B...|\n",
      "|  The Middle Stories|\n",
      "|            Jane Doe|\n",
      "|A Second Chicken ...|\n",
      "|The Witchfinder (...|\n",
      "|More Cunning Than...|\n",
      "|Goodbye to the Bu...|\n",
      "|       The Testament|\n",
      "|Beloved (Plume Co...|\n",
      "+--------------------+\n",
      "only showing top 20 rows\n",
      "\n"
     ]
    }
   ],
   "source": [
    "books_df.select('Book-Title').show()"
   ]
  },
  {
   "cell_type": "code",
   "execution_count": 6,
   "metadata": {},
   "outputs": [
    {
     "name": "stderr",
     "output_type": "stream",
     "text": [
      "                                                                                \r"
     ]
    },
    {
     "data": {
      "text/plain": [
       "16807"
      ]
     },
     "execution_count": 6,
     "metadata": {},
     "output_type": "execute_result"
    }
   ],
   "source": [
    "books_df.select('Publisher').distinct().count()"
   ]
  },
  {
   "cell_type": "code",
   "execution_count": 7,
   "metadata": {},
   "outputs": [
    {
     "name": "stdout",
     "output_type": "stream",
     "text": [
      "+--------------------+\n",
      "|           Publisher|\n",
      "+--------------------+\n",
      "|Oxford University...|\n",
      "|HarperFlamingo Ca...|\n",
      "|     HarperPerennial|\n",
      "|Farrar Straus Giroux|\n",
      "|W. W. Norton &amp...|\n",
      "|    Putnam Pub Group|\n",
      "|Berkley Publishin...|\n",
      "|          Audioworks|\n",
      "|        Random House|\n",
      "|            Scribner|\n",
      "|     Emblem Editions|\n",
      "|       Citadel Press|\n",
      "|House of Anansi P...|\n",
      "|          Mira Books|\n",
      "|Health Communicat...|\n",
      "|Brilliance Audio ...|\n",
      "|Kensington Publis...|\n",
      "|      River City Pub|\n",
      "|                Dell|\n",
      "|               Plume|\n",
      "+--------------------+\n",
      "only showing top 20 rows\n",
      "\n"
     ]
    }
   ],
   "source": [
    "books_df.createOrReplaceTempView('Table')\n",
    "df = spark.sql(\"SELECT Publisher from Table\")\n",
    "df.show()"
   ]
  },
  {
   "cell_type": "code",
   "execution_count": 10,
   "metadata": {},
   "outputs": [
    {
     "name": "stdout",
     "output_type": "stream",
     "text": [
      "+-------+----------+-----------+\n",
      "|User-ID|      ISBN|Book-Rating|\n",
      "+-------+----------+-----------+\n",
      "| 276726| 155061224|          5|\n",
      "| 276727| 446520802|          0|\n",
      "| 276729| 521795028|          6|\n",
      "| 276733|2080674722|          0|\n",
      "| 276737| 600570967|          6|\n",
      "| 276745| 342310538|         10|\n",
      "| 276746| 425115801|          0|\n",
      "| 276746| 449006522|          0|\n",
      "| 276746| 553561618|          0|\n",
      "| 276746| 786013990|          0|\n",
      "| 276746| 786014512|          0|\n",
      "| 276747|  60517794|          9|\n",
      "| 276747| 451192001|          0|\n",
      "| 276747| 609801279|          0|\n",
      "| 276747| 671537458|          9|\n",
      "| 276747| 679776818|          8|\n",
      "| 276747| 943066433|          7|\n",
      "| 276747|1570231028|          0|\n",
      "| 276747|1885408226|          7|\n",
      "| 276748| 747558167|          6|\n",
      "+-------+----------+-----------+\n",
      "only showing top 20 rows\n",
      "\n"
     ]
    }
   ],
   "source": [
    "user_ratings_df = spark.read.option(\"delimiter\", \";\").option(\"header\", \"true\").csv('./BX-CSV-Dump/BX-Book-Ratings.csv')\n",
    "# Columns User-ID, ISBN and Book-Rating were in string format, which we convert to int\n",
    "ratings_df = user_ratings_df.withColumn(\"User-ID\",\n",
    "                                        user_ratings_df['User-ID'].\\\n",
    "                                        cast(IntegerType())).\\\n",
    "\t\t\t\t\t\t\t\t\t\twithColumn(\"ISBN\", user_ratings_df['ISBN'].\\\n",
    "           \t\t\t\t\t\t\t\tcast(IntegerType())).\\\n",
    "    \t\t\t\t\t\t\t\t\twithColumn(\"Book-Rating\",\\\n",
    "                                        user_ratings_df['Book-Rating'].\\\n",
    "                                  \t\tcast(IntegerType())).\\\n",
    "        \t\t\t\t\t\t\t\tna.drop()\n",
    "ratings_df.show()\n"
   ]
  },
  {
   "cell_type": "code",
   "execution_count": 12,
   "metadata": {},
   "outputs": [
    {
     "name": "stderr",
     "output_type": "stream",
     "text": [
      "                                                                                \r"
     ]
    }
   ],
   "source": [
    "# define parameters\n",
    "als = ALS(maxIter=5, regParam=0.01, userCol=\"User-ID\", itemCol=\"ISBN\", ratingCol=\"Book-Rating\",coldStartStrategy=\"drop\")\n",
    "#fit the model to the ratings\n",
    "dataframemodel = als.fit(ratings_df)\n"
   ]
  },
  {
   "cell_type": "code",
   "execution_count": 14,
   "metadata": {},
   "outputs": [
    {
     "name": "stderr",
     "output_type": "stream",
     "text": [
      "                                                                                \r"
     ]
    },
    {
     "name": "stdout",
     "output_type": "stream",
     "text": [
      "+-------+--------------------+-----------------+-------------------+-----------+\n",
      "|User-ID|          Book-Title|      Book-Author|Year-Of-Publication|Book-Rating|\n",
      "+-------+--------------------+-----------------+-------------------+-----------+\n",
      "|     17|OUT OF THE SILENT...|       C.S. Lewis|               1996|          0|\n",
      "|     17|Prelude to Founda...|     ISAAC ASIMOV|               1989|          0|\n",
      "|     17|             Prophet| Frank E. Peretti|               1992|          3|\n",
      "|     17|     Winter Solstice|Rosamunde Pilcher|               2001|          0|\n",
      "|     17| Death in the Clouds|  Agatha Christie|               1997|          7|\n",
      "|     17|Piercing the Dark...| Frank E. Peretti|               1989|          6|\n",
      "|     17|Bant/Spec.Last of...|    Louis L'Amour|               1987|          5|\n",
      "+-------+--------------------+-----------------+-------------------+-----------+\n",
      "\n"
     ]
    }
   ],
   "source": [
    "ratings = ratings_df.filter(col('User-ID')==17)\n",
    "books_df.join(ratings,ratings.ISBN==books_df.ISBN).\\\n",
    "    \t\t\t\tselect(col('User-ID'),col('Book-Title'),col('Book-Author'),col('Year-Of-Publication'),col('Book-Rating')).\\\n",
    "        \t\t\tshow()\n"
   ]
  },
  {
   "cell_type": "code",
   "execution_count": null,
   "metadata": {},
   "outputs": [],
   "source": []
  }
 ],
 "metadata": {
  "kernelspec": {
   "display_name": "Python 3.10.4 ('pytorch1.10')",
   "language": "python",
   "name": "python3"
  },
  "language_info": {
   "codemirror_mode": {
    "name": "ipython",
    "version": 3
   },
   "file_extension": ".py",
   "mimetype": "text/x-python",
   "name": "python",
   "nbconvert_exporter": "python",
   "pygments_lexer": "ipython3",
   "version": "3.10.4"
  },
  "orig_nbformat": 4,
  "vscode": {
   "interpreter": {
    "hash": "4fc5fa8ed76756c9f1c1fe21d69b4a13ec4b696a25ed91a91b6a167c0ca20b72"
   }
  }
 },
 "nbformat": 4,
 "nbformat_minor": 2
}
