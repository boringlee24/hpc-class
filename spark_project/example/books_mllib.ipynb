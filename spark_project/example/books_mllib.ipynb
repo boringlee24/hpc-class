{
 "cells": [
  {
   "cell_type": "code",
   "execution_count": 1,
   "metadata": {},
   "outputs": [],
   "source": [
    "from pyspark import SparkConf, SparkContext"
   ]
  },
  {
   "cell_type": "code",
   "execution_count": 2,
   "metadata": {},
   "outputs": [
    {
     "name": "stderr",
     "output_type": "stream",
     "text": [
      "Setting default log level to \"WARN\".\n",
      "To adjust logging level use sc.setLogLevel(newLevel). For SparkR, use setLogLevel(newLevel).\n"
     ]
    },
    {
     "name": "stdout",
     "output_type": "stream",
     "text": [
      "22/11/22 23:05:36 WARN NativeCodeLoader: Unable to load native-hadoop library for your platform... using builtin-java classes where applicable\n"
     ]
    }
   ],
   "source": [
    "conf = SparkConf().setMaster(\"spark://10.99.250.55:7077\").setAppName(\"Books\")\n",
    "conf.set(\"spark.executor.memory\", \"6G\")\n",
    "conf.set(\"spark.driver.memory\", \"2G\")\n",
    "conf.set(\"spark.executor.cores\", \"8\") # number of cores in each executor\n",
    "conf.set(\"spark.serializer\", \"org.apache.spark.serializer.KryoSerializer\")\n",
    "conf.set(\"spark.default.parallelism\", \"16\") # total number of parallelism across all nodes\n",
    "spark_context =  SparkContext.getOrCreate(conf=conf)"
   ]
  },
  {
   "cell_type": "code",
   "execution_count": 3,
   "metadata": {},
   "outputs": [
    {
     "name": "stderr",
     "output_type": "stream",
     "text": [
      "                                                                                \r"
     ]
    },
    {
     "name": "stdout",
     "output_type": "stream",
     "text": [
      "number of books =  271380\n",
      "First 3 rows are - \n",
      " ['\"ISBN\";\"Book-Title\";\"Book-Author\";\"Year-Of-Publication\";\"Publisher\";\"Image-URL-S\";\"Image-URL-M\";\"Image-URL-L\"', '\"0195153448\";\"Classical Mythology\";\"Mark P. O. Morford\";\"2002\";\"Oxford University Press\";\"http://images.amazon.com/images/P/0195153448.01.THUMBZZZ.jpg\";\"http://images.amazon.com/images/P/0195153448.01.MZZZZZZZ.jpg\";\"http://images.amazon.com/images/P/0195153448.01.LZZZZZZZ.jpg\"', '\"0002005018\";\"Clara Callan\";\"Richard Bruce Wright\";\"2001\";\"HarperFlamingo Canada\";\"http://images.amazon.com/images/P/0002005018.01.THUMBZZZ.jpg\";\"http://images.amazon.com/images/P/0002005018.01.MZZZZZZZ.jpg\";\"http://images.amazon.com/images/P/0002005018.01.LZZZZZZZ.jpg\"']\n"
     ]
    }
   ],
   "source": [
    "books_file = spark_context.textFile(\"./BX-CSV-Dump/BX-Books.csv\")\n",
    "print(\"number of books = \",books_file.count())\n",
    "print(\"First 3 rows are - \\n\",books_file.take(3))"
   ]
  },
  {
   "cell_type": "code",
   "execution_count": 4,
   "metadata": {},
   "outputs": [
    {
     "name": "stderr",
     "output_type": "stream",
     "text": [
      "                                                                                \r"
     ]
    },
    {
     "name": "stdout",
     "output_type": "stream",
     "text": [
      "number of books =  271380\n",
      "First 3 rows are - \n",
      " [['\"ISBN\"', '\"Book-Title\"', '\"Book-Author\"', '\"Year-Of-Publication\"', '\"Publisher\"', '\"Image-URL-S\"', '\"Image-URL-M\"', '\"Image-URL-L\"'], ['\"0195153448\"', '\"Classical Mythology\"', '\"Mark P. O. Morford\"', '\"2002\"', '\"Oxford University Press\"', '\"http://images.amazon.com/images/P/0195153448.01.THUMBZZZ.jpg\"', '\"http://images.amazon.com/images/P/0195153448.01.MZZZZZZZ.jpg\"', '\"http://images.amazon.com/images/P/0195153448.01.LZZZZZZZ.jpg\"'], ['\"0002005018\"', '\"Clara Callan\"', '\"Richard Bruce Wright\"', '\"2001\"', '\"HarperFlamingo Canada\"', '\"http://images.amazon.com/images/P/0002005018.01.THUMBZZZ.jpg\"', '\"http://images.amazon.com/images/P/0002005018.01.MZZZZZZZ.jpg\"', '\"http://images.amazon.com/images/P/0002005018.01.LZZZZZZZ.jpg\"']]\n"
     ]
    }
   ],
   "source": [
    "books_file = books_file.map(lambda l: l.split(';'))\n",
    "print(\"number of books = \",books_file.count())\n",
    "print(\"First 3 rows are - \\n\",books_file.take(3))"
   ]
  },
  {
   "cell_type": "code",
   "execution_count": 5,
   "metadata": {},
   "outputs": [
    {
     "name": "stdout",
     "output_type": "stream",
     "text": [
      "First 3 rows are - \n",
      " [['\"User-ID', 'ISBN', 'Book-Rating\"'], ['\"276725', '034545104X', '0\"'], ['\"276726', '0155061224', '5\"'], ['\"276727', '0446520802', '0\"'], ['\"276729', '052165615X', '3\"'], ['\"276729', '0521795028', '6\"'], ['\"276733', '2080674722', '0\"'], ['\"276736', '3257224281', '8\"'], ['\"276737', '0600570967', '6\"'], ['\"276744', '038550120X', '7\"']]\n",
      " \n",
      " K,V pairs are - \n",
      " [('ISBN', 1), ('034545104X', 1), ('0155061224', 1), ('0446520802', 1), ('052165615X', 1), ('0521795028', 1), ('2080674722', 1), ('3257224281', 1), ('0600570967', 1), ('038550120X', 1)]\n"
     ]
    }
   ],
   "source": [
    "#import the BX-Book-Ratings.csv file and split it into rows with individual elements\n",
    "ratings_file = spark_context.textFile(\"./BX-CSV-Dump/BX-Book-Ratings.csv\").map(lambda l: l.split('\";\"'))\n",
    "print(\"First 3 rows are - \\n\",ratings_file.take(10))\n",
    "print(\" \\n K,V pairs are - \\n\", ratings_file.map(lambda x: (x[1],1)).take(10))"
   ]
  },
  {
   "cell_type": "code",
   "execution_count": 6,
   "metadata": {},
   "outputs": [
    {
     "name": "stderr",
     "output_type": "stream",
     "text": [
      "[Stage 6:=============================>                             (1 + 1) / 2]\r"
     ]
    },
    {
     "name": "stdout",
     "output_type": "stream",
     "text": [
      "[('0671038567', 57), ('0671521462', 1), ('0671708635', 143), ('0679405283', 62), ('0743237188', 284), ('0812524330', 8), ('0842329250', 107), ('3442431875', 18), ('0156006294', 5), ('0312112947', 2)]\n"
     ]
    },
    {
     "name": "stderr",
     "output_type": "stream",
     "text": [
      "                                                                                \r"
     ]
    }
   ],
   "source": [
    "ratings_kv = ratings_file.filter(lambda x: x[1] != 'ISBN' ).map(lambda x: (x[1],1))\n",
    "#print(ratings_kv.take(10))\n",
    "ratings_count = ratings_kv.reduceByKey(lambda x, y: x + y)\n",
    "print(ratings_count.take(10))"
   ]
  },
  {
   "cell_type": "code",
   "execution_count": 7,
   "metadata": {},
   "outputs": [
    {
     "name": "stderr",
     "output_type": "stream",
     "text": [
      "                                                                                \r"
     ]
    }
   ],
   "source": [
    "ratings_sorted = ratings_count.map(lambda x: (x[1], x[0])).sortByKey(False)"
   ]
  },
  {
   "cell_type": "code",
   "execution_count": 8,
   "metadata": {},
   "outputs": [
    {
     "name": "stderr",
     "output_type": "stream",
     "text": [
      "                                                                                \r"
     ]
    },
    {
     "name": "stdout",
     "output_type": "stream",
     "text": [
      "['\"Wild Animus\"', '\"Angels &amp', '\"A Painted House\"', '\"The Secret Life of Bees\"', '\"The Lovely Bones: A Novel\"', '\"The Red Tent (Bestselling Backlist)\"', '\"The Da Vinci Code\"', '\"Divine Secrets of the Ya-Ya Sisterhood: A Novel\"', '\"Snow Falling on Cedars\"']\n"
     ]
    }
   ],
   "source": [
    "top_10 = []\n",
    "for i in ratings_sorted.take(10):\n",
    "    top_10.append('\"'+i[1]+'\"')\n",
    "print(books_file.filter(lambda x: x[0] in top_10).map(lambda x: x[1]).collect())\n"
   ]
  },
  {
   "cell_type": "code",
   "execution_count": null,
   "metadata": {},
   "outputs": [],
   "source": []
  }
 ],
 "metadata": {
  "kernelspec": {
   "display_name": "Python 3.10.4 ('pytorch1.10')",
   "language": "python",
   "name": "python3"
  },
  "language_info": {
   "codemirror_mode": {
    "name": "ipython",
    "version": 3
   },
   "file_extension": ".py",
   "mimetype": "text/x-python",
   "name": "python",
   "nbconvert_exporter": "python",
   "pygments_lexer": "ipython3",
   "version": "3.10.4"
  },
  "orig_nbformat": 4,
  "vscode": {
   "interpreter": {
    "hash": "4fc5fa8ed76756c9f1c1fe21d69b4a13ec4b696a25ed91a91b6a167c0ca20b72"
   }
  }
 },
 "nbformat": 4,
 "nbformat_minor": 2
}
