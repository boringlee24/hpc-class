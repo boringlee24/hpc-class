{
 "cells": [
  {
   "cell_type": "code",
   "execution_count": 1,
   "metadata": {},
   "outputs": [],
   "source": [
    "from pyspark import SparkConf, SparkContext\n",
    "from pyspark.mllib.tree import DecisionTree, DecisionTreeModel\n",
    "from pyspark.mllib.util import MLUtils\n",
    "from pyspark.sql import SparkSession\n",
    "from pyspark.mllib.classification import LabeledPoint\n",
    "from pyspark.mllib.evaluation import BinaryClassificationMetrics\n",
    "from time import perf_counter"
   ]
  },
  {
   "cell_type": "code",
   "execution_count": 2,
   "metadata": {},
   "outputs": [
    {
     "name": "stderr",
     "output_type": "stream",
     "text": [
      "Setting default log level to \"WARN\".\n",
      "To adjust logging level use sc.setLogLevel(newLevel). For SparkR, use setLogLevel(newLevel).\n"
     ]
    },
    {
     "name": "stdout",
     "output_type": "stream",
     "text": [
      "22/12/05 15:14:43 WARN NativeCodeLoader: Unable to load native-hadoop library for your platform... using builtin-java classes where applicable\n"
     ]
    }
   ],
   "source": [
    "NUM_NODES=4\n",
    "# when set local[*], all available cores will be used, the only executor is the driver\n",
    "conf = SparkConf().setMaster(\"spark://10.99.250.19:7077\").setAppName(\"HIGGS\") \n",
    "conf.set(\"spark.executor.memory\", \"20G\")\n",
    "conf.set(\"spark.driver.memory\", \"2G\")\n",
    "conf.set(\"spark.executor.cores\", \"8\")\n",
    "conf.set(\"spark.cores.max\", f\"{NUM_NODES*8}\")\n",
    "# conf.set(\"spark.executor.instances\", \"2\")\n",
    "conf.set(\"spark.serializer\", \"org.apache.spark.serializer.KryoSerializer\")\n",
    "# conf.set(\"spark.default.parallelism\", \"16\")\n",
    "# create a Spark Session instead of a Spark Context\n",
    "spark = SparkSession.builder \\\n",
    "    .config(conf = conf) \\\n",
    "  .getOrCreate()"
   ]
  },
  {
   "cell_type": "code",
   "execution_count": 3,
   "metadata": {},
   "outputs": [
    {
     "name": "stderr",
     "output_type": "stream",
     "text": [
      "                                                                                \r"
     ]
    }
   ],
   "source": [
    "df_list = []\n",
    "for i in range(NUM_NODES):\n",
    "    df_list.append(spark.read.option(\"delimiter\", \",\").option(\"header\", \"false\").csv('/work/li.baol/data/HIGGS.csv'))\n",
    "if NUM_NODES == 1:\n",
    "    df = df_list[0]\n",
    "else:\n",
    "    df = df_list[0]\n",
    "    for k in range(1,NUM_NODES):\n",
    "        df = df.union(df_list[k])"
   ]
  },
  {
   "cell_type": "code",
   "execution_count": 4,
   "metadata": {},
   "outputs": [],
   "source": [
    "data = df.rdd.map(lambda row: LabeledPoint(float(row['_c0']), list(map(lambda x: float(x), row.asDict().values()))[1:]))"
   ]
  },
  {
   "cell_type": "code",
   "execution_count": 5,
   "metadata": {},
   "outputs": [
    {
     "name": "stderr",
     "output_type": "stream",
     "text": [
      "                                                                                \r"
     ]
    },
    {
     "data": {
      "text/plain": [
       "99.06489806156605"
      ]
     },
     "execution_count": 5,
     "metadata": {},
     "output_type": "execute_result"
    }
   ],
   "source": [
    "start = perf_counter()\n",
    "\n",
    "model = DecisionTree.trainClassifier(data, numClasses=2, categoricalFeaturesInfo={},\n",
    "                                    impurity='gini', maxDepth=8)\n",
    "end = perf_counter()\n",
    "end-start                   "
   ]
  }
 ],
 "metadata": {
  "kernelspec": {
   "display_name": "Python 3.10.4 ('pytorch1.10')",
   "language": "python",
   "name": "python3"
  },
  "language_info": {
   "codemirror_mode": {
    "name": "ipython",
    "version": 3
   },
   "file_extension": ".py",
   "mimetype": "text/x-python",
   "name": "python",
   "nbconvert_exporter": "python",
   "pygments_lexer": "ipython3",
   "version": "3.10.4"
  },
  "orig_nbformat": 4,
  "vscode": {
   "interpreter": {
    "hash": "4fc5fa8ed76756c9f1c1fe21d69b4a13ec4b696a25ed91a91b6a167c0ca20b72"
   }
  }
 },
 "nbformat": 4,
 "nbformat_minor": 2
}
